{
  "nbformat": 4,
  "nbformat_minor": 0,
  "metadata": {
    "colab": {
      "name": "YT8M Third Video Understanding Challenge",
      "provenance": [],
      "collapsed_sections": [
        "51Ih3wu8VQqA",
        "mVYmLjqWYJAc",
        "sJNZfewKgwXB"
      ],
      "include_colab_link": true
    },
    "kernelspec": {
      "name": "python3",
      "display_name": "Python 3"
    },
    "accelerator": "GPU"
  },
  "cells": [
    {
      "cell_type": "markdown",
      "metadata": {
        "id": "view-in-github",
        "colab_type": "text"
      },
      "source": [
        "<a href=\"https://colab.research.google.com/github/kristian1108/YT8M/blob/master/YT8M_Third_Video_Understanding_Challenge.ipynb\" target=\"_parent\"><img src=\"https://colab.research.google.com/assets/colab-badge.svg\" alt=\"Open In Colab\"/></a>"
      ]
    },
    {
      "cell_type": "markdown",
      "metadata": {
        "id": "-KYgnvn8QvKq",
        "colab_type": "text"
      },
      "source": [
        "---\n",
        "#**Candidate Generation For Large-Scale Facial Recognition In Videos**\n",
        "---\n",
        "Abstract: \n",
        "\n",
        "Drawing inspiration from recent advancements in video labeling and recommender systems, this project aims to develop a multi-staged approach to large-scale facial recognition in videos. In pursuit of this, models were developed and tested to understand context from videos, which in turn can be used to narrow down the likely set of faces appearing therein. In doing so, this model architecture could be useful in improving the effectiveness and efficiency of facial recognition software. The data used to develop these models came from the YouTube-8M and CelebA datasets. In order to support the ability to iterate and experiment quickly, a wrapper class for the YouTube-8M dataset was developed and shared publicly for others to use in their own research. The results of this project indicate promise for the concepts being tested, but further development is required to bring it to full fruition. \n"
      ]
    },
    {
      "cell_type": "markdown",
      "metadata": {
        "id": "n653nHBTXp-3",
        "colab_type": "text"
      },
      "source": [
        "---\n",
        "\n",
        "Prepared for Advanced Machine Learning Final Project by:"
      ]
    },
    {
      "cell_type": "markdown",
      "metadata": {
        "id": "Tw0FyewkRTKy",
        "colab_type": "text"
      },
      "source": [
        "Kristian Gaylord (krg2136), Daniel Rogoff (dr2635), Yaxin Deng (yd2467), Min Sun (ms5709)\n",
        "\n",
        "\n",
        "---\n"
      ]
    },
    {
      "cell_type": "markdown",
      "metadata": {
        "id": "Y-bGkY4KWP1F",
        "colab_type": "text"
      },
      "source": [
        "##**Setup**"
      ]
    },
    {
      "cell_type": "code",
      "metadata": {
        "id": "lsQbm5EfSVHq",
        "colab_type": "code",
        "colab": {}
      },
      "source": [
        "#!pip install --upgrade tensorflow# ~~ This, and the following install statements, should be uncommented and run if first time setting up.\n",
        "#!pip install face_recognition\n",
        "#!pip install opencv-python-headless\n",
        "#!pip install pafy\n",
        "#!pip install -U youtube-dl\n",
        "\n",
        "import numpy as np\n",
        "import pandas as pd\n",
        "import tensorflow as tf\n",
        "from tensorflow import keras\n",
        "import os\n",
        "from IPython.display import YouTubeVideo\n",
        "import urllib.request as ur\n",
        "from collections import Counter\n",
        "import datetime\n",
        "from google.colab import files\n",
        "import networkx as nx\n",
        "from itertools import combinations\n",
        "import matplotlib.pyplot as plt\n",
        "import dlib\n",
        "import cv2\n",
        "import pafy\n",
        "import youtube_dl\n",
        "from google.colab.patches import cv2_imshow\n",
        "import face_recognition\n",
        "import face_recognition_models"
      ],
      "execution_count": 0,
      "outputs": []
    },
    {
      "cell_type": "code",
      "metadata": {
        "id": "wEbWMvd_4Bx8",
        "colab_type": "code",
        "colab": {}
      },
      "source": [
        ""
      ],
      "execution_count": 0,
      "outputs": []
    },
    {
      "cell_type": "markdown",
      "metadata": {
        "id": "51Ih3wu8VQqA",
        "colab_type": "text"
      },
      "source": [
        "## **The ``` YouTubeInput``` class is a wrapper class that grants easy access to decoded and formatted data from the TFRecord files that come from the YT8M dataset.**\n"
      ]
    },
    {
      "cell_type": "code",
      "metadata": {
        "id": "rjpcBtTgS04A",
        "colab_type": "code",
        "colab": {}
      },
      "source": [
        "class YouTubeInput:\n",
        "\n",
        "  \"\"\"\n",
        "  @param filepath: file pattern of the files you want to import, in gfile.glob format.\n",
        "  @param vocab_path: the filepath to the vocab document. \n",
        "  @param top_n_labels: how many of the top n labels you would like to look at. \n",
        "\n",
        "  returns None\n",
        "  \"\"\"\n",
        "  def __init__(self, filepath, vocab_path, top_n_labels=100):\n",
        "    self.filepath = filepath\n",
        "    self.raw_data = tf.data.TFRecordDataset(tf.io.gfile.glob(self.filepath))\n",
        "    self.vocab_path = vocab_path\n",
        "\n",
        "    self.video_ids = []\n",
        "    self.labels = []\n",
        "\n",
        "    self.fill_labels_ids()\n",
        "\n",
        "    self.vocab = pd.read_csv(self.vocab_path)\n",
        "    self.label_to_name = self.vocab[['Index', 'Name']].set_index('Index', drop=True).to_dict()['Name']\n",
        "    self.vertical_dict = self.vocab[['Index', 'Vertical1']].set_index('Index', drop=True).to_dict()['Vertical1']\n",
        "        \n",
        "    self.unique_verticals = self.vocab['Vertical1'].unique()\n",
        "    self.vertical_depth = len(self.unique_verticals)\n",
        "\n",
        "    self.vertical_to_int = {}\n",
        "    self.int_to_vertical = {}\n",
        "        \n",
        "    self.fill_vertical_dicts()\n",
        "        \n",
        "    self.label_depth = len(self.vocab['Index'].unique())\n",
        "        \n",
        "    self.top_labels = []\n",
        "    self.top_n_labels(top_n_labels)\n",
        "\n",
        "    self.label_to_code = {}\n",
        "    self.code_to_label = {}\n",
        "\n",
        "    self.create_code_label_maps()\n",
        "\n",
        "    self.trimmed_labels = []\n",
        "    self.null_lists = []\n",
        "    self.no_blank_labels = []\n",
        "\n",
        "    self.trim_empty_labels()\n",
        "\n",
        "    self.encoded_labels = [tuple(self.label_encode(l)) for l in self.no_blank_labels]\n",
        "        \n",
        "    self.use_verticals = False\n",
        "    self.one_hot = False\n",
        "    self.use_set = False\n",
        "    self.recurrent_reshape = False\n",
        "    self.recurrent_lab_reshape = False\n",
        "    self.take_first = False\n",
        "    self.normal_mean_var = False\n",
        "    self.frames = 300\n",
        "    self.batch_size = 10\n",
        "\n",
        "  def fill_vertical_dicts(self):\n",
        "    for i in range(len(self.unique_verticals)):\n",
        "      self.vertical_to_int[self.unique_verticals[i]] = i\n",
        "      self.int_to_vertical[i] = self.unique_verticals[i]\n",
        "            \n",
        "    for key, value in self.vertical_dict.items():\n",
        "      self.vertical_dict[key] = self.vertical_to_int[value]\n",
        "            \n",
        "    self.to_vertical1 = tf.lookup.KeyValueTensorInitializer(keys=list(self.vertical_dict.keys()), \n",
        "                                                 values=list(self.vertical_dict.values()))\n",
        "    self.vertical1_table = tf.lookup.StaticHashTable(self.to_vertical1, -1)\n",
        "\n",
        "  def trim_empty_labels(self):\n",
        "    for label in self.labels:\n",
        "      x = [l for l in label if l in self.top_labels]\n",
        "      self.trimmed_labels.append(x)\n",
        "\n",
        "    self.null_lists = [i for i in range(len(self.trimmed_labels)) if self.trimmed_labels[i] == []]\n",
        "\n",
        "    for i in range(len(self.video_ids)):\n",
        "      if i not in self.null_lists:\n",
        "        self.no_blank_labels.append(self.trimmed_labels[i])\n",
        "\n",
        "  def create_code_label_maps(self):\n",
        "    self.label_to_code = {}\n",
        "    self.code_to_label = {}\n",
        "\n",
        "    for i in range(len(self.top_labels)):\n",
        "\n",
        "        self.label_to_code[self.top_labels[i]] = i\n",
        "        self.code_to_label[i] = self.top_labels[i]\n",
        "\n",
        "  def top_n_labels(self, inp=100):\n",
        "    n = inp\n",
        "    top_n = Counter([item for sublist in self.labels for item in sublist]).most_common(n)\n",
        "    top_n_labels = [int(i[0]) for i in top_n]\n",
        "\n",
        "    self.top_labels = top_n_labels\n",
        "\n",
        "    return top_n_labels\n",
        "\n",
        "  def fill_labels_ids(self):\n",
        "    for record in self.raw_data.take(-1):\n",
        "      example = tf.train.Example()\n",
        "      example.ParseFromString(record.numpy())\n",
        "\n",
        "      id_value = tf.compat.as_str_any(example.features.feature['id'].bytes_list.value[0])\n",
        "      self.video_ids.append(id_value)\n",
        "      self.labels.append(example.features.feature['labels'].int64_list.value)\n",
        "\n",
        "  def parse_input(self, record):\n",
        "    context = {'id': tf.io.FixedLenFeature([], tf.string, default_value=''),\n",
        "               'labels': tf.io.VarLenFeature(tf.int64)}\n",
        "\n",
        "    feat = {'audio': tf.io.FixedLenSequenceFeature([], tf.string),\n",
        "            'rgb': tf.io.FixedLenSequenceFeature([], tf.string)}\n",
        "\n",
        "    parsed_features = tf.io.parse_single_sequence_example(serialized=record, context_features=context, sequence_features=feat)\n",
        "\n",
        "    context = parsed_features[0]\n",
        "    features = parsed_features[1]\n",
        "\n",
        "    context['labels'] = tf.cast(context['labels'].values, tf.int32)\n",
        "\n",
        "    features['audio'] = tf.cast(tf.io.decode_raw(features['audio'], tf.uint8), tf.float32)\n",
        "    features['rgb'] = tf.cast(tf.io.decode_raw(features['rgb'], tf.uint8), tf.float32)\n",
        "\n",
        "    final_feat = tf.concat([features['rgb'], features['audio']], -1)\n",
        "        \n",
        "    if self.use_verticals:\n",
        "        labels = self.vertical1_table.lookup(context['labels'])\n",
        "    else: \n",
        "        labels = context['labels']\n",
        "\n",
        "    if self.use_set: \n",
        "        labels, idx = tf.unique(labels)\n",
        "            \n",
        "    if self.take_first:    \n",
        "        labels = tf.slice(labels, [0],[1])\n",
        "            \n",
        "    if self.one_hot:\n",
        "        labels = tf.reduce_sum(tf.one_hot(labels, depth=len(self.unique_verticals)), 0)\n",
        "            \n",
        "    if self.recurrent_reshape:      \n",
        "        rows = tf.shape(final_feat)[0]\n",
        "        cols = tf.shape(final_feat)[1]\n",
        "            \n",
        "        zero_rows = self.frames-rows\n",
        "            \n",
        "        zes = tf.zeros(shape=(zero_rows, 1152))\n",
        "            \n",
        "        if zero_rows > 0: \n",
        "            final_feat = tf.concat([final_feat, zes], 0)\n",
        "                \n",
        "        final_feat = tf.reshape(final_feat,(self.frames,1152))\n",
        "                        \n",
        "    if self.recurrent_lab_reshape: \n",
        "        labels = tf.tile(labels, [self.frames, 1]) \n",
        "        \n",
        "    mean, variance = tf.nn.moments(final_feat, axes=[0])\n",
        "    final_norm = ((final_feat - mean) / tf.sqrt(variance))\n",
        "               \n",
        "    if self.normal_mean_var:\n",
        "        return final_norm, labels\n",
        "        \n",
        "    return final_feat, labels\n",
        "\n",
        "  def get_raw(self):\n",
        "    return self.raw_data\n",
        "\n",
        "  \"\"\"\n",
        "  @param use_verticals: if True, converts individual labels to the corresponding primary vertical. \n",
        "  @param one_hot: if True, converts labels to one-hot vector (or multi-hot if multiple labels)\n",
        "  @param use_set: if True, deletes duplicate labels if any exist. \n",
        "  @param recurrent_reshape: if True, reshapes input tensor to be compatible with recurrent network (*note, you must also use batch afterward) \n",
        "  @param recurrent_lab_reshape: if True, reshapes label tensor to be compatible with recurrent network (*note, must use same batch size as features)\n",
        "  @param take_first: if True, only keeps the first label if there are multiple.\n",
        "  @param normal_mean_var: if True, scales feature data to have mean 0 and variance 1. \n",
        "  @param frames: number of default frames to standardize across samples. \n",
        "  @batch_size: size of batches in the dataset. \n",
        "\n",
        "  returns MapDataset for ingestion into Keras model. \n",
        "  \"\"\"\n",
        "  def get_mapped(self, use_verticals=False, one_hot=False, use_set=False, recurrent_reshape=False, \n",
        "                  recurrent_lab_reshape=False, take_first=False, normal_mean_var=False, frames=300, batch_size=100):\n",
        "    if use_verticals: \n",
        "      self.use_verticals=True    \n",
        "    if one_hot: \n",
        "      self.one_hot = True\n",
        "    if use_set:\n",
        "      self.use_set = True\n",
        "    if recurrent_reshape: \n",
        "      self.recurrent_reshape = True\n",
        "    if recurrent_lab_reshape: \n",
        "      self.recurrent_lab_reshape = True\n",
        "    if take_first:\n",
        "      self.take_first = True\n",
        "    if normal_mean_var:\n",
        "      self.normal_mean_var = True\n",
        "            \n",
        "    self.frames=frames\n",
        "    self.batch_size = batch_size\n",
        "            \n",
        "    return (self.raw_data.map(self.parse_input)).batch(batch_size)\n",
        "    \n",
        "  def get_labels(self):\n",
        "      return self.labels\n",
        "\n",
        "  def get_ids(self):\n",
        "      return self.video_ids\n",
        "\n",
        "  def label_decode(self, label):\n",
        "      return [self.code_to_label[l] for l in label]\n",
        "\n",
        "  def label_encode(self, label):\n",
        "      return [self.label_to_code[l] for l in label]\n",
        "\n",
        "\n",
        "  def get_video_id(self, index=0):\n",
        "    vid_id = self.video_ids[index]\n",
        "    pre = vid_id[:2]\n",
        "    link = 'http://data.yt8m.org/2/j/i/' + str(pre) + '/' + str(vid_id) + '.js'\n",
        "    file = ur.urlopen(link)\n",
        "    data = tf.compat.as_str_any(file.read())\n",
        "    file.close()\n",
        "    data = data.split(',')\n",
        "    real_id = data[1].replace(';','').replace(')','').replace('\"','')\n",
        "    return real_id\n",
        "        "
      ],
      "execution_count": 0,
      "outputs": []
    },
    {
      "cell_type": "markdown",
      "metadata": {
        "id": "mVYmLjqWYJAc",
        "colab_type": "text"
      },
      "source": [
        "## **Code snippets showing some examples of the YouTubeInput Class:**"
      ]
    },
    {
      "cell_type": "code",
      "metadata": {
        "id": "_9t111eFZg7K",
        "colab_type": "code",
        "colab": {}
      },
      "source": [
        "train = YouTubeInput('train0255.tfrecord', 'vocab.csv')\n",
        "validate = YouTubeInput('validate0143.tfrecord', 'vocab.csv')"
      ],
      "execution_count": 0,
      "outputs": []
    },
    {
      "cell_type": "markdown",
      "metadata": {
        "id": "4Jqo_qRLcSR8",
        "colab_type": "text"
      },
      "source": [
        "**All options are false, raw data.**"
      ]
    },
    {
      "cell_type": "code",
      "metadata": {
        "id": "V7K4lpElZog7",
        "colab_type": "code",
        "outputId": "80aedfed-b36b-433d-86b8-a851bd6bb57d",
        "colab": {
          "base_uri": "https://localhost:8080/",
          "height": 323
        }
      },
      "source": [
        "train_dataset = train.get_mapped(use_verticals=False, one_hot=False, use_set=False, \n",
        "                     recurrent_reshape=False, recurrent_lab_reshape=False, \n",
        "                     take_first=False, normal_mean_var=False, frames=300, batch_size=1)\n",
        "\n",
        "for element in train_dataset.take(2):\n",
        "  print(element[0])\n",
        "  print(element[1])"
      ],
      "execution_count": 0,
      "outputs": [
        {
          "output_type": "stream",
          "text": [
            "tf.Tensor(\n",
            "[[[  0. 190.  50. ... 217.  54. 219.]\n",
            "  [154.  97.  37. ... 154.  75. 255.]\n",
            "  [138.  71.  37. ... 246. 123. 175.]\n",
            "  ...\n",
            "  [  0. 149.  43. ... 148.  44. 255.]\n",
            "  [  0. 148.  42. ...  74.  40. 252.]\n",
            "  [  0. 148.  42. ... 139.  41. 132.]]], shape=(1, 217, 1152), dtype=float32)\n",
            "tf.Tensor([[0]], shape=(1, 1), dtype=int32)\n",
            "tf.Tensor(\n",
            "[[[119.  97. 102. ... 193. 132.   0.]\n",
            "  [168. 175.  94. ... 255.  45.  54.]\n",
            "  [152. 175.  86. ... 159. 137.  83.]\n",
            "  ...\n",
            "  [177. 132.  81. ... 166. 157.  86.]\n",
            "  [159. 140. 111. ...  89. 118.  54.]\n",
            "  [167. 148.  89. ... 255. 120.   0.]]], shape=(1, 181, 1152), dtype=float32)\n",
            "tf.Tensor([[ 53  58 163 232]], shape=(1, 4), dtype=int32)\n"
          ],
          "name": "stdout"
        }
      ]
    },
    {
      "cell_type": "markdown",
      "metadata": {
        "id": "459qQjMCdlLs",
        "colab_type": "text"
      },
      "source": [
        "**One-hot encoded, verticals, reshaped for recurrent net.**\n",
        "\n",
        "Rreshaping for the recurrent network duplicates and reshapes the label to ensure that there is one label for each timestep (rows) in the feature tensor."
      ]
    },
    {
      "cell_type": "code",
      "metadata": {
        "id": "ltujXA18cZB3",
        "colab_type": "code",
        "outputId": "6d02c9cb-c4b0-455f-fd18-fdf70931dbe0",
        "colab": {
          "base_uri": "https://localhost:8080/",
          "height": 561
        }
      },
      "source": [
        "train_dataset = train.get_mapped(use_verticals=True, one_hot=True, use_set=True, \n",
        "                     recurrent_reshape=True, recurrent_lab_reshape=True, \n",
        "                     take_first=True, normal_mean_var=False, frames=300, batch_size=1)\n",
        "\n",
        "for element in train_dataset.take(2):\n",
        "  print(element[0])\n",
        "  print(element[1])"
      ],
      "execution_count": 0,
      "outputs": [
        {
          "output_type": "stream",
          "text": [
            "tf.Tensor(\n",
            "[[[  0. 190.  50. ... 217.  54. 219.]\n",
            "  [154.  97.  37. ... 154.  75. 255.]\n",
            "  [138.  71.  37. ... 246. 123. 175.]\n",
            "  ...\n",
            "  [  0.   0.   0. ...   0.   0.   0.]\n",
            "  [  0.   0.   0. ...   0.   0.   0.]\n",
            "  [  0.   0.   0. ...   0.   0.   0.]]], shape=(1, 300, 1152), dtype=float32)\n",
            "tf.Tensor(\n",
            "[[[1. 0. 0. ... 0. 0. 0.]\n",
            "  [1. 0. 0. ... 0. 0. 0.]\n",
            "  [1. 0. 0. ... 0. 0. 0.]\n",
            "  ...\n",
            "  [1. 0. 0. ... 0. 0. 0.]\n",
            "  [1. 0. 0. ... 0. 0. 0.]\n",
            "  [1. 0. 0. ... 0. 0. 0.]]], shape=(1, 300, 25), dtype=float32)\n",
            "tf.Tensor(\n",
            "[[[119.  97. 102. ... 193. 132.   0.]\n",
            "  [168. 175.  94. ... 255.  45.  54.]\n",
            "  [152. 175.  86. ... 159. 137.  83.]\n",
            "  ...\n",
            "  [  0.   0.   0. ...   0.   0.   0.]\n",
            "  [  0.   0.   0. ...   0.   0.   0.]\n",
            "  [  0.   0.   0. ...   0.   0.   0.]]], shape=(1, 300, 1152), dtype=float32)\n",
            "tf.Tensor(\n",
            "[[[0. 0. 0. ... 0. 0. 0.]\n",
            "  [0. 0. 0. ... 0. 0. 0.]\n",
            "  [0. 0. 0. ... 0. 0. 0.]\n",
            "  ...\n",
            "  [0. 0. 0. ... 0. 0. 0.]\n",
            "  [0. 0. 0. ... 0. 0. 0.]\n",
            "  [0. 0. 0. ... 0. 0. 0.]]], shape=(1, 300, 25), dtype=float32)\n"
          ],
          "name": "stdout"
        }
      ]
    },
    {
      "cell_type": "code",
      "metadata": {
        "id": "-fFeAhc1g-HW",
        "colab_type": "code",
        "colab": {}
      },
      "source": [
        ""
      ],
      "execution_count": 0,
      "outputs": []
    },
    {
      "cell_type": "markdown",
      "metadata": {
        "id": "sJNZfewKgwXB",
        "colab_type": "text"
      },
      "source": [
        "##**Exploring the YT8M data a bit...**"
      ]
    },
    {
      "cell_type": "code",
      "metadata": {
        "id": "60SjYD8ShAOC",
        "colab_type": "code",
        "outputId": "feb5d058-649d-4d79-d93e-c908e678192c",
        "colab": {
          "base_uri": "https://localhost:8080/",
          "height": 34
        }
      },
      "source": [
        "print(\"There are {} unique labels in the dataset\".format(train.label_depth))"
      ],
      "execution_count": 0,
      "outputs": [
        {
          "output_type": "stream",
          "text": [
            "There are 3862 unique labels in the dataset\n"
          ],
          "name": "stdout"
        }
      ]
    },
    {
      "cell_type": "code",
      "metadata": {
        "id": "RC_l5sCm1OHN",
        "colab_type": "code",
        "outputId": "fd30dcae-24a7-4e4e-ccc9-d13ec57af5e5",
        "colab": {
          "base_uri": "https://localhost:8080/",
          "height": 321
        }
      },
      "source": [
        "#You can change vid_id to see what videos are in this particular train file. \n",
        "vid_id = 13\n",
        "\n",
        "YouTubeVideo(train.get_video_id(vid_id))"
      ],
      "execution_count": 0,
      "outputs": [
        {
          "output_type": "execute_result",
          "data": {
            "text/html": [
              "\n",
              "        <iframe\n",
              "            width=\"400\"\n",
              "            height=\"300\"\n",
              "            src=\"https://www.youtube.com/embed/gKZld_Q-01k\"\n",
              "            frameborder=\"0\"\n",
              "            allowfullscreen\n",
              "        ></iframe>\n",
              "        "
            ],
            "text/plain": [
              "<IPython.lib.display.YouTubeVideo at 0x7f115edc8080>"
            ],
            "image/jpeg": "[encoded data removed]"
          },
          "metadata": {
            "tags": []
          },
          "execution_count": 93
        }
      ]
    },
    {
      "cell_type": "code",
      "metadata": {
        "id": "BfGkAAokhX4t",
        "colab_type": "code",
        "outputId": "7cb053e3-1bdb-42a1-b280-797b1fbb180f",
        "colab": {
          "base_uri": "https://localhost:8080/",
          "height": 520
        }
      },
      "source": [
        "\"\"\"\n",
        "This graph code was inspired by data exploration done in the 3rd Video Understanding\n",
        "Challenge on Kaggle. https://www.kaggle.com/c/youtube8m-2019\n",
        "\n",
        "It was modified to fit into the YouTubeInput Framework.\n",
        "\n",
        "The generated graph shows how labels are connected to one another by way of being \n",
        "applicable to the same videos. \n",
        "\"\"\"\n",
        "G = nx.Graph()\n",
        "\n",
        "G.clear()\n",
        "\n",
        "for list_of_nodes in train.labels:\n",
        "  filtered_nodes = set(list_of_nodes).intersection(set(train.top_labels) & set(train.vocab['Index'].unique()))  \n",
        "  \n",
        "  for node1,node2 in list(combinations(filtered_nodes,2)): \n",
        "    node1_name = train.label_to_name[node1]\n",
        "    node2_name = train.label_to_name[node2]\n",
        "    G.add_node(node1_name)\n",
        "    G.add_node(node2_name)\n",
        "    G.add_edge(node1_name, node2_name)\n",
        "\n",
        "plt.figure(figsize=(9,9))\n",
        "nx.draw_networkx(G, font_size=\"8\")"
      ],
      "execution_count": 0,
      "outputs": [
        {
          "output_type": "display_data",
          "data": {
            "image/png": "[encoded data removed]",
            "text/plain": [
              "<Figure size 648x648 with 1 Axes>"
            ]
          },
          "metadata": {
            "tags": []
          }
        }
      ]
    },
    {
      "cell_type": "markdown",
      "metadata": {
        "id": "QgAcKjHzjJJi",
        "colab_type": "text"
      },
      "source": [
        "##**Video Understanding Models**"
      ]
    },
    {
      "cell_type": "markdown",
      "metadata": {
        "id": "Vtjua4dmfdlA",
        "colab_type": "text"
      },
      "source": [
        "**No real training was done in this Colab Notebook due to the lack of adequate persistent storage (the YT8M files were about 100GB). This tensorboard cell is just symbolic.**"
      ]
    },
    {
      "cell_type": "code",
      "metadata": {
        "id": "RzdLJQxgelMg",
        "colab_type": "code",
        "colab": {}
      },
      "source": [
        "%load_ext tensorboard\n",
        "!rm -rf logs/ \n",
        "\n",
        "log_dir = \"logs/fit/\" + datetime.datetime.now().strftime(\"%Y%m%d-%H%M%S\")\n",
        "\n",
        "tensorboard_callback = tf.keras.callbacks.TensorBoard(log_dir=log_dir, histogram_freq=1)"
      ],
      "execution_count": 0,
      "outputs": []
    },
    {
      "cell_type": "markdown",
      "metadata": {
        "id": "btolvcB1jYTI",
        "colab_type": "text"
      },
      "source": [
        "**Due to the size of the classification space, we observed that the neural network had a tendency to converge on setting all of the values to zero. This practiced returned a relatively high accuracy value (due to the fact that the one-hot vector is mostly zeros), but was obviously suboptimal for the purpose of this project. To mitigate this behavior, we deployed a custom ```WeightedBinaryCrossEntropy``` loss function that assigns extra weight for positively labeled values.**\n",
        "\n",
        " "
      ]
    },
    {
      "cell_type": "code",
      "metadata": {
        "id": "G2IORufafZXA",
        "colab_type": "code",
        "colab": {}
      },
      "source": [
        "\"\"\"\n",
        "This custom WeightedBinaryCrossEntropy loss class was inspired by code from \n",
        "TensorFlow: https://www.tensorflow.org/guide/keras/train_and_evaluate. \n",
        "\"\"\"\n",
        "class WeightedBinaryCrossEntropy(keras.losses.Loss):\n",
        "  \n",
        "  def __init__(self, pos_weight, weight, from_logits=False, \n",
        "               reduction=keras.losses.Reduction.AUTO,\n",
        "               name='weighted_binary_crossentropy'):\n",
        "     super(WeightedBinaryCrossEntropy, self).__init__(reduction=reduction,\n",
        "                                                         name=name)\n",
        "     self.pos_weight = pos_weight\n",
        "     self.weight = weight\n",
        "     self.from_logits = from_logits\n",
        "\n",
        "  def call(self, y_true, y_pred):\n",
        "    if not self.from_logits:\n",
        "      x_1 = y_true * self.pos_weight * -tf.math.log(y_pred + 1e-6)\n",
        "      x_2 = (1 - y_true) * -tf.math.log(1 - y_pred + 1e-6)\n",
        "      return tf.add(x_1, x_2) * self.weight \n",
        "\n",
        "    return tf.nn.weighted_cross_entropy_with_logits(y_true, y_pred, self.pos_weight) * self.weight"
      ],
      "execution_count": 0,
      "outputs": []
    },
    {
      "cell_type": "markdown",
      "metadata": {
        "id": "mLmg4UZ_kOAg",
        "colab_type": "text"
      },
      "source": [
        "**Model 1: Simple Feed-Forward Network**\n",
        "\n",
        "Notes: The learning rate in this network is quite high. This was found to be most effective after many empirical tests. The optimizer is also SGD; we went back and forth between SGD, Adam, and RMSprop, but finally settled on SGD because none of the others seemed to do anything too different. The final activation is sigmoid to support multi-label classification. We also experimented with exponential decay learning rate, but decided to take it out in this final version because it didn't seem to help. Finally, it's worth noting that we don't do any special transformation to the frame features in this model — rather we just pass them through an initial input layer as one group and then flatten them into a giant fully connected layer early on. \n",
        "\n"
      ]
    },
    {
      "cell_type": "code",
      "metadata": {
        "id": "emcaZIBogW9W",
        "colab_type": "code",
        "outputId": "f3d81832-dc19-4de3-d32a-248c76663300",
        "colab": {
          "base_uri": "https://localhost:8080/",
          "height": 527
        }
      },
      "source": [
        "from tensorflow.keras import models, layers\n",
        "\n",
        "model = models.Sequential()\n",
        "\n",
        "model.add(layers.Dense(512, activation='relu', input_shape=(train.frames,1152), use_bias=True))\n",
        "model.add(layers.Flatten())\n",
        "\n",
        "model.add(layers.Dense(300, activation='softmax'))\n",
        "model.add(layers.Dropout(0.5))\n",
        "\n",
        "model.add(layers.Dense(300, activation='relu'))\n",
        "model.add(layers.Dropout(0.5))\n",
        "\n",
        "model.add(layers.Dense(100, activation='relu', use_bias=True))\n",
        "model.add(layers.Dropout(0.5))\n",
        "\n",
        "model.add(layers.Dense(100, activation='softmax'))\n",
        "model.add(layers.Dense(100, activation='relu', use_bias=True))\n",
        "\n",
        "model.add(layers.Dense(train.vertical_depth, activation='sigmoid'))\n",
        "\n",
        "opt = tf.optimizers.SGD(learning_rate=0.1)\n",
        "met = tf.keras.metrics.BinaryAccuracy(threshold=0.5)\n",
        "los = WeightedBinaryCrossEntropy(pos_weight=2, weight=0.1, from_logits=True)\n",
        "\n",
        "model.compile(optimizer=opt, loss=los, metrics=[met])\n",
        "model.summary()\n",
        "\n",
        "#model.fit(train_dataset, epochs=20, verbose=1, validation_data=validation_dataset, callbacks=[tensorboard_callback])"
      ],
      "execution_count": 0,
      "outputs": [
        {
          "output_type": "stream",
          "text": [
            "Model: \"sequential_3\"\n",
            "_________________________________________________________________\n",
            "Layer (type)                 Output Shape              Param #   \n",
            "=================================================================\n",
            "dense_21 (Dense)             (None, 300, 512)          590336    \n",
            "_________________________________________________________________\n",
            "flatten_3 (Flatten)          (None, 153600)            0         \n",
            "_________________________________________________________________\n",
            "dense_22 (Dense)             (None, 300)               46080300  \n",
            "_________________________________________________________________\n",
            "dropout_9 (Dropout)          (None, 300)               0         \n",
            "_________________________________________________________________\n",
            "dense_23 (Dense)             (None, 300)               90300     \n",
            "_________________________________________________________________\n",
            "dropout_10 (Dropout)         (None, 300)               0         \n",
            "_________________________________________________________________\n",
            "dense_24 (Dense)             (None, 100)               30100     \n",
            "_________________________________________________________________\n",
            "dropout_11 (Dropout)         (None, 100)               0         \n",
            "_________________________________________________________________\n",
            "dense_25 (Dense)             (None, 100)               10100     \n",
            "_________________________________________________________________\n",
            "dense_26 (Dense)             (None, 100)               10100     \n",
            "_________________________________________________________________\n",
            "dense_27 (Dense)             (None, 25)                2525      \n",
            "=================================================================\n",
            "Total params: 46,813,761\n",
            "Trainable params: 46,813,761\n",
            "Non-trainable params: 0\n",
            "_________________________________________________________________\n"
          ],
          "name": "stdout"
        }
      ]
    },
    {
      "cell_type": "markdown",
      "metadata": {
        "id": "86ff224Zl2x5",
        "colab_type": "text"
      },
      "source": [
        "This model won't be trained here in Colab due to a lack of persistent data storate, but here is a screenshot from Tensorboard of its train run:\n",
        "\n",
        "![Tensorboard Screenshot]('Screen Shot 2019-12-16 at 11.40.02 AM.png')"
      ]
    },
    {
      "cell_type": "markdown",
      "metadata": {
        "id": "1jBWCu-tn24-",
        "colab_type": "text"
      },
      "source": [
        "**Model 2: Stacked Recurrent Neural Network**\n",
        "\n",
        "Notes: In order for this code to work, the data must be retrieved with the `recurrent_reshape` parameter set to `True` in the `YouTubeInput.get_mapped()` function. The `recurrent_lab_reshape` should remain set to `False` because this particular recurrent network is predicting final labels, not labels at each step. The final version of this network was arrived at through a lot of empirical examination. The activation functions are all softmax or sigmoid because relu activations within the LSTM cell caused the loss to diverge. The Dropout layers seemed to improve convergence time. The final fully connected layer has a sigmoid activation to allow for the multi-label scenario. In contrast to the model above, which just smashes all of the frame data together in one go, this model looks at a single frame at a time as it tries to predict the label. The LSTM recurrent network takes data in the shape of (batch_size, number of time steps, hidden size); in this case, the number of time steps perfectly matches up with the rows of the feature matrix, which in turn represent individual frames from the videos. This seems like a more natural way to model the videos, and the empirical evidence suggests this model works as well, if not better than the strictly feed-forward net. It does take longer to train though. \n"
      ]
    },
    {
      "cell_type": "code",
      "metadata": {
        "id": "9aC5WLPVn99Y",
        "colab_type": "code",
        "outputId": "fa8542ac-8443-485c-e348-de790d799aaf",
        "colab": {
          "base_uri": "https://localhost:8080/",
          "height": 561
        }
      },
      "source": [
        "model = models.Sequential()\n",
        "\n",
        "model.add(layers.LSTM(128, return_sequences=True, activation='softmax'))\n",
        "model.add(layers.Dropout(0.5))\n",
        "model.add(layers.LSTM(564, return_sequences=True, activation='sigmoid'))\n",
        "model.add(layers.LSTM(258, return_sequences=True, activation='softmax'))\n",
        "model.add(layers.Dropout(0.5))\n",
        "model.add(layers.LSTM(128, return_sequences=True, activation='sigmoid'))\n",
        "model.add(layers.LSTM(24, return_sequences=True, activation='softmax'))\n",
        "model.add(layers.TimeDistributed(layers.Dense(1000)))\n",
        "\n",
        "model.add(layers.Dense(512, activation='relu', use_bias=True))\n",
        "model.add(layers.Flatten())\n",
        "model.add(layers.Dense(300, activation='softmax', use_bias=True))\n",
        "model.add(layers.Dense(train.vertical_depth, activation='sigmoid'))\n",
        "\n",
        "model.build(input_shape=(train.batch_size,train.frames,1152))\n",
        "model.compile(optimizer=opt, loss=los, metrics=[met])\n",
        "model.summary()\n",
        "\n",
        "#model.fit(train_dataset, epochs=20, verbose=1, validation_data=validation_dataset, callbacks=[tensorboard_callback])"
      ],
      "execution_count": 0,
      "outputs": [
        {
          "output_type": "stream",
          "text": [
            "Model: \"sequential_9\"\n",
            "_________________________________________________________________\n",
            "Layer (type)                 Output Shape              Param #   \n",
            "=================================================================\n",
            "lstm_25 (LSTM)               multiple                  655872    \n",
            "_________________________________________________________________\n",
            "dropout_22 (Dropout)         multiple                  0         \n",
            "_________________________________________________________________\n",
            "lstm_26 (LSTM)               multiple                  1563408   \n",
            "_________________________________________________________________\n",
            "lstm_27 (LSTM)               multiple                  849336    \n",
            "_________________________________________________________________\n",
            "dropout_23 (Dropout)         multiple                  0         \n",
            "_________________________________________________________________\n",
            "lstm_28 (LSTM)               multiple                  198144    \n",
            "_________________________________________________________________\n",
            "lstm_29 (LSTM)               multiple                  14688     \n",
            "_________________________________________________________________\n",
            "time_distributed_5 (TimeDist multiple                  25000     \n",
            "_________________________________________________________________\n",
            "dense_49 (Dense)             multiple                  512512    \n",
            "_________________________________________________________________\n",
            "flatten_9 (Flatten)          multiple                  0         \n",
            "_________________________________________________________________\n",
            "dense_50 (Dense)             multiple                  46080300  \n",
            "_________________________________________________________________\n",
            "dense_51 (Dense)             multiple                  7525      \n",
            "=================================================================\n",
            "Total params: 49,906,785\n",
            "Trainable params: 49,906,785\n",
            "Non-trainable params: 0\n",
            "_________________________________________________________________\n"
          ],
          "name": "stdout"
        }
      ]
    },
    {
      "cell_type": "markdown",
      "metadata": {
        "id": "TqMo_M-L7vb6",
        "colab_type": "text"
      },
      "source": [
        "Similar to above, this model won't be trained here, but a screenshot of the Tensorboard result can be found here: ![Recurrent Network](Recurrent Network.png)"
      ]
    },
    {
      "cell_type": "markdown",
      "metadata": {
        "id": "8ApXgjbGxmmc",
        "colab_type": "text"
      },
      "source": [
        "##**Face Detection & Identification**"
      ]
    },
    {
      "cell_type": "code",
      "metadata": {
        "id": "li1kl1YG5F-1",
        "colab_type": "code",
        "colab": {}
      },
      "source": [
        "videos = YouTubeInput('*.tfrecord')\n",
        "\n",
        "video_ids = videos.video_ids\n",
        "labels = videos.labels"
      ],
      "execution_count": 0,
      "outputs": []
    },
    {
      "cell_type": "markdown",
      "metadata": {
        "id": "ZmxlbxRRzMVG",
        "colab_type": "text"
      },
      "source": [
        "Identifying faces from a large list of possible faces generated a large number of misclassification errors. However, narrowing the scope to one face and a number of videos that, contextually, are likely to contain that face would produce better results in principle. In this case, we limited our scope to comedy videos and sought to identify famous comedians. As the code below illustrates, there are 71 such videos in this sample of YouTube videos."
      ]
    },
    {
      "cell_type": "code",
      "metadata": {
        "id": "bq1wyYfU9xUa",
        "colab_type": "code",
        "outputId": "2294216a-23ab-4aa5-c064-631562f32405",
        "colab": {
          "base_uri": "https://localhost:8080/",
          "height": 34
        }
      },
      "source": [
        "indices = []\n",
        "for j in range(len(labels)):\n",
        "  for i in labels[j]:\n",
        "    ##label for \"comedians\" is 325\n",
        "    if i==325: \n",
        "      indices.append(j)"
      ],
      "execution_count": 0,
      "outputs": [
        {
          "output_type": "execute_result",
          "data": {
            "text/plain": [
              "71"
            ]
          },
          "metadata": {
            "tags": []
          },
          "execution_count": 68
        }
      ]
    },
    {
      "cell_type": "code",
      "metadata": {
        "id": "X5UUM22XMxRH",
        "colab_type": "code",
        "colab": {}
      },
      "source": [
        "def get_video_id(index=0):\n",
        "    vid_id = video_ids[index]\n",
        "    pre = vid_id[:2]\n",
        "    link = 'http://data.yt8m.org/2/j/i/' + str(pre) + '/' + str(vid_id) + '.js'\n",
        "    file = ur.urlopen(link)\n",
        "    data = tf.compat.as_str_any(file.read())\n",
        "    file.close()\n",
        "    data = data.split(',')\n",
        "    real_id = data[1].replace(';','').replace(')','').replace('\"','')\n",
        "    return real_id"
      ],
      "execution_count": 0,
      "outputs": []
    },
    {
      "cell_type": "markdown",
      "metadata": {
        "id": "7F19tYTrzsZ3",
        "colab_type": "text"
      },
      "source": [
        "**Face Detection**\n",
        "\n",
        "To detect faces, we incorporate the Face_Recognition library with OpenCV's video reading functionality. Face_Recognition uses dlib's get_frontal_face_detector() function. This function utilizes Dalal and Triggs' [Histogram of Oriented Gradients](http://lear.inrialpes.fr/people/triggs/pubs/Dalal-cvpr05.pdf) technique to identify the faces. \n",
        "\n",
        "The function here yields a 99.4% accuracy against the Faces In The Wild benchmark. In the 100 YouTube videos that we manually sampled to confirm its applicability to this context, we found 0 false positives. Conversely, we did not check for false negatives, since we're already sampling around 180 frames per video and are not concerned with the possibility that a frame only occurs in a small number of frames of the video."
      ]
    },
    {
      "cell_type": "code",
      "metadata": {
        "id": "RAd6FUWMMxRd",
        "colab_type": "code",
        "colab": {}
      },
      "source": [
        "def generate_sample_frame_faces(input_movie,length):\n",
        "# Initialize variables\n",
        "  face_encodings_output = []\n",
        "  faces_output = []\n",
        "  face_locations = []\n",
        "  face_encodings = []\n",
        "  face_names = []\n",
        "  frame_number = 0\n",
        "\n",
        "  # We're limiting ourselves to the first 2000 frames of video - roughly the first 2 minutes - since these operations are computationally expesnive \n",
        "  while frame_number<=min(3000,length):\n",
        "      # Get one frame of video\n",
        "      ret, frame = input_movie.read()\n",
        "      frame_number += 1\n",
        "      \n",
        "\n",
        "\n",
        "    # Flip rgb to bgr, and sample 1/25th of frames - ie one for every second of video\n",
        "      if frame_number%25 == 0:\n",
        "        rgb_frame = frame[:, :, ::-1]\n",
        "\n",
        "      # Find all the faces and face encodings in the current frame of video\n",
        "        face_locations = face_recognition.face_locations(rgb_frame, model=\"cnn\")\n",
        "        face_encodings = face_recognition.face_encodings(rgb_frame, face_locations)\n",
        "\n",
        "    #print(face_recognition.face_locations(rgb_frame, model=\"cnn\"))\n",
        "\n",
        "        if face_locations and face_locations[0][2]-face_locations[0][0] > 60 and face_locations[0][1]-face_locations[0][3] > 60:\n",
        "          face_encodings_output.append(face_recognition.face_encodings(rgb_frame, face_locations))\n",
        "          \n",
        "\n",
        "\n",
        "  # All done!\n",
        "  input_movie.release()\n",
        "  return face_encodings_output"
      ],
      "execution_count": 0,
      "outputs": []
    },
    {
      "cell_type": "markdown",
      "metadata": {
        "id": "NNn9vrPQ80te",
        "colab_type": "text"
      },
      "source": [
        "Here we upload Dane Cook faces. As noted above, when we try to match faces from many celebrities, the large number of possible faces induces misclassification errors. Narrowing our scope to binary classification of a single celebrity's face, however, produced better results.\n",
        "\n",
        "The faces themselves are taken from the CelebA dataset, with the specific mapping of these pictures to Dane Cook provided by the stewards of CelebA."
      ]
    },
    {
      "cell_type": "code",
      "metadata": {
        "id": "yi9ICqzoja7S",
        "colab_type": "code",
        "colab": {}
      },
      "source": [
        "dane_cook_faces = []\n",
        "img = face_recognition.load_image_file('gdrive/My Drive/DaneCook/0'+str(11200)+'.jpg')\n",
        "dane_cook_faces.append(face_recognition.face_encodings(img))\n",
        "img = face_recognition.load_image_file('gdrive/My Drive/DaneCook/0'+str(13494)+'.jpg')\n",
        "dane_cook_faces.append(face_recognition.face_encodings(img))\n",
        "img = face_recognition.load_image_file('gdrive/My Drive/DaneCook/0'+str(13611)+'.jpg')\n",
        "dane_cook_faces.append(face_recognition.face_encodings(img))\n",
        "img = face_recognition.load_image_file('gdrive/My Drive/DaneCook/0'+str(15137)+'.jpg')\n",
        "dane_cook_faces.append(face_recognition.face_encodings(img))\n",
        "img = face_recognition.load_image_file('gdrive/My Drive/DaneCook/0'+str(17623)+'.jpg')\n",
        "dane_cook_faces.append(face_recognition.face_encodings(img))\n",
        "img = face_recognition.load_image_file('gdrive/My Drive/DaneCook/0'+str(19937)+'.jpg')\n",
        "dane_cook_faces.append(face_recognition.face_encodings(img))\n",
        "img = face_recognition.load_image_file('gdrive/My Drive/DaneCook/0'+str(28121)+'.jpg')\n",
        "dane_cook_faces.append(face_recognition.face_encodings(img))\n",
        "img = face_recognition.load_image_file('gdrive/My Drive/DaneCook/0'+str(29918)+'.jpg')\n",
        "dane_cook_faces.append(face_recognition.face_encodings(img))\n",
        "\n",
        "\n",
        "\n",
        "  "
      ],
      "execution_count": 0,
      "outputs": []
    },
    {
      "cell_type": "markdown",
      "metadata": {
        "id": "oZx8sEnz-Cpp",
        "colab_type": "text"
      },
      "source": [
        "**Face Identification**\n",
        "\n",
        "To identify faces, we again incorporate the Face_Recognition library with OpenCV's video reading functionality. Face_Recognition uses [Open Faces](https://cmusatyalab.github.io/openface/)'s published [networks](https://github.com/cmusatyalab/openface/tree/master/models/openface) to encode faces into a 128-d embedding space; following that, it uses a simple SVM to determine whether two faces are a match. "
      ]
    },
    {
      "cell_type": "code",
      "metadata": {
        "id": "yRIUVNOhWILq",
        "colab_type": "code",
        "colab": {}
      },
      "source": [
        "def match_faces(known_faces,face_encodings_output,t):\n",
        "  # Initialize variables\n",
        "  results = []\n",
        "  matches = []\n",
        "  # For each face in our list of known faces...\n",
        "  for j in range(len(known_faces)):\n",
        "    # ... and for each face in the faces we've taken from the video...\n",
        "    for i in range(len(face_encodings_output)):\n",
        "      # ... check if they're a match\n",
        "      if face_recognition.compare_faces(known_faces[j], face_encodings_output[i][0], tolerance=t)==[True]:\n",
        "        match = j\n",
        "        matches.append(match)\n",
        "  # return the matches\n",
        "  results.append(matches)\n",
        "  return results"
      ],
      "execution_count": 0,
      "outputs": []
    },
    {
      "cell_type": "markdown",
      "metadata": {
        "id": "zEpRawJoiy5t",
        "colab_type": "text"
      },
      "source": [
        "This is where it all comes together: for a given set of videos (defined above in terms of a particular label, in this case comedy videos) we a) load the video b) extract the faces and c) determine if they match Dane Cook. Unfortunately, we weren't able to achieve good results in this step."
      ]
    },
    {
      "cell_type": "code",
      "metadata": {
        "id": "Uoz8HH1fiyq9",
        "colab_type": "code",
        "colab": {}
      },
      "source": [
        "### Matches by video\n",
        "matches = []\n",
        "j=0\n",
        "for i in indices[21:50]:\n",
        "  try:\n",
        "    url = \"https://www.youtube.com/watch?v=\"+get_video_id(i)\n",
        "    print(url)\n",
        "    urlPafy = pafy.new(url)\n",
        "    videoplay = urlPafy.getbest()\n",
        "\n",
        "    input_movie = cv2.VideoCapture(url)\n",
        "\n",
        "    length = int(input_movie.get(cv2.CAP_PROP_FRAME_COUNT))\n",
        "\n",
        "    face_encodings_output = generate_sample_frame_faces(input_movie,length)\n",
        "\n",
        "    matches_in_video = match_faces(dane_cook_faces,face_encodings_output,.3)\n",
        "    matches.append(matches_in_video)\n",
        "\n",
        "    print(\"Done with \"+str(j+1)+\", \"+str(len(matches_in_video[0]))+\" matches in video\")\n",
        "    input_movie.release()\n",
        "  except:\n",
        "    print(\"Error of some sort for \"+str(j+1)+\", skipping\")\n",
        "  j=j+1\n"
      ],
      "execution_count": 0,
      "outputs": []
    }
  ]
}